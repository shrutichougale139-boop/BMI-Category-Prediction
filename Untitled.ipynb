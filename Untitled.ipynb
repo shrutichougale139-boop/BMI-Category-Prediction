{
 "cells": [
  {
   "cell_type": "code",
   "execution_count": 2,
   "id": "83fe66ab-d853-45a5-b6f9-f9f442426fbe",
   "metadata": {},
   "outputs": [
    {
     "name": "stdout",
     "output_type": "stream",
     "text": [
      "✅ Model trained successfully!\n"
     ]
    }
   ],
   "source": [
    "import pandas as pd\n",
    "from sklearn.preprocessing import LabelEncoder, StandardScaler\n",
    "from sklearn.ensemble import RandomForestClassifier\n",
    "from sklearn.model_selection import train_test_split\n",
    "\n",
    "# Load dataset\n",
    "df = pd.read_csv(\"bmi_categories_prediction.csv\")\n",
    "\n",
    "# Encode data\n",
    "gender_encoder = LabelEncoder()\n",
    "df['gender'] = gender_encoder.fit_transform(df['gender'])\n",
    "\n",
    "target_encoder = LabelEncoder()\n",
    "df['bmi_category'] = target_encoder.fit_transform(df['bmi_category'])\n",
    "\n",
    "# Features & target\n",
    "X = df[['height_cm', 'weight_kg', 'age', 'gender']]\n",
    "y = df['bmi_category']\n",
    "\n",
    "# Scale data\n",
    "scaler = StandardScaler()\n",
    "X_scaled = scaler.fit_transform(X)\n",
    "\n",
    "# Train model\n",
    "model = RandomForestClassifier(n_estimators=100, random_state=42)\n",
    "model.fit(X_scaled, y)\n",
    "\n",
    "print(\"✅ Model trained successfully!\")\n",
    "\n",
    "# Keep objects in memory (for use in Streamlit)\n",
    "trained_model = model\n",
    "trained_scaler = scaler\n",
    "trained_gender_encoder = gender_encoder\n",
    "trained_target_encoder = target_encoder\n"
   ]
  },
  {
   "cell_type": "code",
   "execution_count": null,
   "id": "b15a27c6-29c3-4f7a-af5e-3c38c9ac9655",
   "metadata": {},
   "outputs": [],
   "source": []
  }
 ],
 "metadata": {
  "kernelspec": {
   "display_name": "Python 3 (ipykernel)",
   "language": "python",
   "name": "python3"
  },
  "language_info": {
   "codemirror_mode": {
    "name": "ipython",
    "version": 3
   },
   "file_extension": ".py",
   "mimetype": "text/x-python",
   "name": "python",
   "nbconvert_exporter": "python",
   "pygments_lexer": "ipython3",
   "version": "3.13.3"
  }
 },
 "nbformat": 4,
 "nbformat_minor": 5
}
